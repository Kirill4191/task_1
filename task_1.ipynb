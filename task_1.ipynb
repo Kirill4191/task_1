{
 "cells": [
  {
   "cell_type": "code",
   "execution_count": 1,
   "id": "f238d190",
   "metadata": {},
   "outputs": [],
   "source": [
    "# Найти max число одинаковых наборов таким образом, чтобы использовать весь список\n",
    "\n",
    "# Задача сводится к нахождению наибольшего общего делителя для n чисел, \n",
    "# где числа являются количеством конфет каждого типа из списка на входе"
   ]
  },
  {
   "cell_type": "code",
   "execution_count": 2,
   "id": "f53b7424",
   "metadata": {},
   "outputs": [],
   "source": [
    "from collections import Counter"
   ]
  },
  {
   "cell_type": "code",
   "execution_count": 3,
   "id": "54247d67",
   "metadata": {},
   "outputs": [],
   "source": [
    "test1 = ['a', 'a', 'a', 'b', 'b', 'b', 'b', 'c', 'c', 'c', 'c', 'c']\n",
    "test2 = ['a', 'b', 'c', 'a', 'b', 'c', 'c', 'c']"
   ]
  },
  {
   "cell_type": "code",
   "execution_count": 4,
   "id": "527ac0cf",
   "metadata": {},
   "outputs": [],
   "source": [
    "def maxfriendsnum(candy_list):\n",
    "    \"\"\"\n",
    "    Возвращает максимальное число друзей, которым можно раздать одинаковые наборы конфет таким образом,\n",
    "    чтобы список конфет остался пустым\n",
    "    ---\n",
    "    Args:\n",
    "    candy_list (list) - список с конфетами\n",
    "    ---\n",
    "    Returns:\n",
    "    maxnum (int) - максимальное число друзей\n",
    "    \"\"\"\n",
    "    try:\n",
    "        # считаем кол-во конфет принадлежащих разным типам\n",
    "        counted_dict = Counter(candy_list)\n",
    "        \n",
    "        # проходимся по всем делителям от 1 до кол-ва конфет принадлежащих типу с наименьшим кол-вом конфет \n",
    "        for i in range(1, min(counted_dict.values())+1):\n",
    "            # проходимся по всем делимым - кол-во конфет принадлежащих какому-то конкретному типу\n",
    "            for k in range(1, len(counted_dict.keys())+1):         \n",
    "                _, val = counted_dict.most_common()[k-1]\n",
    "                if val % i == 0:\n",
    "                    if k == len(counted_dict.keys()):\n",
    "                        maxnum = i\n",
    "                else:\n",
    "                    break\n",
    "        return(maxnum)\n",
    "    except ValueError:\n",
    "        print('Ошибка: что-то не так с входным списком')"
   ]
  },
  {
   "cell_type": "code",
   "execution_count": 5,
   "id": "0b6d7e53",
   "metadata": {},
   "outputs": [
    {
     "data": {
      "text/plain": [
       "1"
      ]
     },
     "execution_count": 5,
     "metadata": {},
     "output_type": "execute_result"
    }
   ],
   "source": [
    "maxfriendsnum(test1)"
   ]
  },
  {
   "cell_type": "code",
   "execution_count": 6,
   "id": "18be9a7e",
   "metadata": {},
   "outputs": [
    {
     "data": {
      "text/plain": [
       "2"
      ]
     },
     "execution_count": 6,
     "metadata": {},
     "output_type": "execute_result"
    }
   ],
   "source": [
    "maxfriendsnum(test2)"
   ]
  }
 ],
 "metadata": {
  "kernelspec": {
   "display_name": "Python 3",
   "language": "python",
   "name": "python3"
  },
  "language_info": {
   "codemirror_mode": {
    "name": "ipython",
    "version": 3
   },
   "file_extension": ".py",
   "mimetype": "text/x-python",
   "name": "python",
   "nbconvert_exporter": "python",
   "pygments_lexer": "ipython3",
   "version": "3.8.10"
  }
 },
 "nbformat": 4,
 "nbformat_minor": 5
}
